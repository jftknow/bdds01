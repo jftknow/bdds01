{
 "cells": [
  {
   "cell_type": "markdown",
   "metadata": {},
   "source": [
    "Desde cero hasta avanzado"
   ]
  },
  {
   "cell_type": "markdown",
   "metadata": {},
   "source": [
    "# 101 Curso de Python. Nivel básico "
   ]
  },
  {
   "cell_type": "markdown",
   "metadata": {},
   "source": [
    "### Modulo 1. Primeros pasos. Versiones y dónde estamos"
   ]
  },
  {
   "cell_type": "markdown",
   "metadata": {},
   "source": [
    "A partir de enero de 2020, Python 2 ha alcanzado el estado Fin de vida útil , lo que significa que no recibirá más actualizaciones o correcciones de errores, incluso por problemas de seguridad. Muchos marcos y otros proyectos adicionales siguen una política similar. Como tal, solo podemos recomendar aprender y enseñar Python 3."
   ]
  },
  {
   "cell_type": "markdown",
   "metadata": {},
   "source": [
    "La mayoría de las aplicaciones de Python están en la versión 2.x, y es cierto que hay que conocer cómo eran la cosas antes de la **versión 3**, en algunos casos."
   ]
  },
  {
   "cell_type": "markdown",
   "metadata": {},
   "source": [
    "Pero mucho más importante es:\n",
    "* Tenemos que usar Python 3 para nuevas aplicaciones de Python.\n",
    "* Si está aprendiendo Python por primera vez, familiarizarse con Python 2.7 será muy útil, pero no más útil que aprender Python 3.\n",
    "* Aprende ambos. Ambos son \"Python\", no pasaría nada:\n",
    "    * El software que ya está construido a menudo depende de Python 2.7. Todos deberán adaptarse.\n",
    "    * Si estás escribiendo una nueva biblioteca de Python de código abierto, es mejor escribirla para Python 3 simultáneamente. "
   ]
  },
  {
   "cell_type": "markdown",
   "metadata": {
    "slideshow": {
     "slide_type": "slide"
    }
   },
   "source": [
    "## Ver dónde estamos"
   ]
  },
  {
   "cell_type": "markdown",
   "metadata": {},
   "source": [
    "Primero revisamos que tenemos instalado Python y pip, el instalador de libererias. "
   ]
  },
  {
   "cell_type": "markdown",
   "metadata": {},
   "source": [
    "#### MODO 1"
   ]
  },
  {
   "cell_type": "code",
   "execution_count": null,
   "metadata": {
    "scrolled": true
   },
   "outputs": [],
   "source": [
    "conda list ipython"
   ]
  },
  {
   "cell_type": "markdown",
   "metadata": {},
   "source": [
    "#### MODO 2"
   ]
  },
  {
   "cell_type": "code",
   "execution_count": null,
   "metadata": {},
   "outputs": [],
   "source": [
    "# Vemos la versión de jupyter\n",
    "from platform import python_version\n",
    "print('Versión en Notebook: ', python_version())\n",
    "\n",
    "# Si queremos verlo dentro de python\n",
    "import sys\n",
    "print('Versión leyendo el propio python: ', sys.version)\n",
    "\n",
    "# Si queremos verlo en la consola CMD, fuera del notebook. Dará error desde este Notebook\n",
    "python --version"
   ]
  },
  {
   "cell_type": "code",
   "execution_count": null,
   "metadata": {
    "scrolled": true
   },
   "outputs": [],
   "source": [
    "pip --version"
   ]
  },
  {
   "cell_type": "markdown",
   "metadata": {},
   "source": [
    "#### Crear y trabajar en un directorio dedicado al entorno\n",
    "\n",
    "Primero, ver dónde estamos:"
   ]
  },
  {
   "cell_type": "code",
   "execution_count": null,
   "metadata": {
    "scrolled": true
   },
   "outputs": [],
   "source": [
    "import os"
   ]
  },
  {
   "cell_type": "code",
   "execution_count": null,
   "metadata": {},
   "outputs": [],
   "source": [
    "#No ejecutar, es para limpiar el final si es necesario\n"
   ]
  },
  {
   "cell_type": "code",
   "execution_count": null,
   "metadata": {},
   "outputs": [],
   "source": [
    "cd users\\masja"
   ]
  },
  {
   "cell_type": "code",
   "execution_count": null,
   "metadata": {
    "scrolled": true
   },
   "outputs": [],
   "source": [
    "## Ver en que directorio estamos:\n",
    "import os\n",
    "path = os.getcwd()\n",
    "print (\"El directorio dónde estamos ahora %s\" % path)"
   ]
  },
  {
   "cell_type": "markdown",
   "metadata": {},
   "source": [
    "Segundo, crear el nuevo directorio:"
   ]
  },
  {
   "cell_type": "code",
   "execution_count": null,
   "metadata": {},
   "outputs": [],
   "source": [
    "import os\n",
    "\n",
    "# definimos el nuevo directorio\n",
    "path = \"C://Users//masja//nuevoproyecto\"\n",
    "\n",
    "try:\n",
    "    os.mkdir(path)\n",
    "except OSError:\n",
    "    print (\"Ha dado error %s failed\" % path)\n",
    "else:\n",
    "    print (\"Se ha creado el directorio %s \" % path)"
   ]
  },
  {
   "cell_type": "code",
   "execution_count": null,
   "metadata": {
    "scrolled": true
   },
   "outputs": [],
   "source": [
    "## Ver en que directorio estamos:\n",
    "import os\n",
    "path = os.getcwd()\n",
    "print (\"El directorio dónde estamos ahora %s\" % path)"
   ]
  },
  {
   "cell_type": "code",
   "execution_count": null,
   "metadata": {
    "scrolled": false
   },
   "outputs": [],
   "source": [
    "for x in os.listdir('.'):\n",
    "    print (x)"
   ]
  },
  {
   "cell_type": "code",
   "execution_count": null,
   "metadata": {
    "scrolled": false
   },
   "outputs": [],
   "source": [
    "cd nuevoproyecto"
   ]
  },
  {
   "cell_type": "code",
   "execution_count": null,
   "metadata": {
    "scrolled": true
   },
   "outputs": [],
   "source": [
    "## Ver en que directorio estamos:\n",
    "import os\n",
    "path = os.getcwd()\n",
    "print (\"El directorio dónde estamos ahora %s\" % path)"
   ]
  },
  {
   "cell_type": "code",
   "execution_count": null,
   "metadata": {},
   "outputs": [],
   "source": [
    "cd /"
   ]
  },
  {
   "cell_type": "code",
   "execution_count": null,
   "metadata": {},
   "outputs": [],
   "source": [
    "for x in os.listdir('.'):\n",
    "    print (x)"
   ]
  },
  {
   "cell_type": "code",
   "execution_count": null,
   "metadata": {
    "scrolled": true
   },
   "outputs": [],
   "source": [
    "cd users\\masja"
   ]
  },
  {
   "cell_type": "code",
   "execution_count": null,
   "metadata": {
    "scrolled": true
   },
   "outputs": [],
   "source": [
    "for x in os.listdir('.'):\n",
    "    print (x)"
   ]
  },
  {
   "cell_type": "markdown",
   "metadata": {},
   "source": [
    "\"Hola mundo\" en Python\n",
    "===\n",
    "Siempre que se comienza a desarrollar un programa, se hace con Hola mundo"
   ]
  },
  {
   "cell_type": "code",
   "execution_count": 2,
   "metadata": {},
   "outputs": [
    {
     "name": "stdout",
     "output_type": "stream",
     "text": [
      "¡Hola mundo!\n"
     ]
    }
   ],
   "source": [
    "print('¡Hola mundo!')"
   ]
  },
  {
   "cell_type": "markdown",
   "metadata": {},
   "source": [
    "**Nota**: Si usamos Python 2.7, no hay paréntesis y en este Notebook nos dará error"
   ]
  },
  {
   "cell_type": "markdown",
   "metadata": {},
   "source": [
    "- - -\n",
    "[Home](http://nbviewer.ipython.org/urls/raw.github.com/ehmatthes/intro_programming/master/notebooks/index.ipynb) | \n",
    "[Next: Variables, Strings, and Numbers](http://nbviewer.ipython.org/urls/raw.github.com/ehmatthes/intro_programming/master/notebooks/var_string_num.ipynb)"
   ]
  }
 ],
 "metadata": {
  "kernelspec": {
   "display_name": "Python 3",
   "language": "python",
   "name": "python3"
  },
  "language_info": {
   "codemirror_mode": {
    "name": "ipython",
    "version": 3
   },
   "file_extension": ".py",
   "mimetype": "text/x-python",
   "name": "python",
   "nbconvert_exporter": "python",
   "pygments_lexer": "ipython3",
   "version": "3.7.6"
  }
 },
 "nbformat": 4,
 "nbformat_minor": 4
}
